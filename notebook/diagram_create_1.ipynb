{
 "cells": [
  {
   "cell_type": "code",
   "execution_count": 9,
   "metadata": {},
   "outputs": [
    {
     "data": {
      "text/html": [
       "<script type=\"text/javascript\">window.PlotlyConfig = {MathJaxConfig: 'local'};</script><script type=\"text/javascript\">if (window.MathJax) {MathJax.Hub.Config({SVG: {font: \"STIX-Web\"}});}</script><script>requirejs.config({paths: { 'plotly': ['https://cdn.plot.ly/plotly-latest.min']},});if(!window._Plotly) {require(['plotly'],function(plotly) {window._Plotly=plotly;});}</script>"
      ]
     },
     "metadata": {},
     "output_type": "execute_result"
    }
   ],
   "source": [
    "import numpy as np\n",
    "import pandas as pd\n",
    "import plotly.graph_objs as go\n",
    "from plotly.offline import iplot, init_notebook_mode\n",
    "init_notebook_mode(connected=True) "
   ]
  },
  {
   "cell_type": "code",
   "execution_count": 10,
   "metadata": {},
   "outputs": [],
   "source": [
    "months = ['january', 'february', 'march', 'april', 'may']\n",
    "months_ru = ['Январь 2019', 'Февраль 2019', 'Март 2019', 'Апрель 2019', 'Май 2019'] \n",
    "real = pd.read_excel(\n",
    "    './data/new_data/Реализация за 01.2019-05.2019г. пономенклатурно.xlsx',\n",
    "    skiprows=10,\n",
    "    usecols=list(range(1,9)),\n",
    "    names=['nom', 'art', 'code'] + months\n",
    ").fillna(0)\n",
    "orders = pd.read_excel(\n",
    "    './data/new_data/Заказы покупателей за 01.2019-05.2019г. пономенклатурно.xlsx',\n",
    "    skiprows=11,\n",
    "    usecols=list(range(1,9)),\n",
    "    names=['nom', 'art', 'code'] + months\n",
    ").fillna(0)"
   ]
  },
  {
   "cell_type": "code",
   "execution_count": 11,
   "metadata": {},
   "outputs": [
    {
     "data": {
      "text/plain": [
       "((8687, 8), (8120, 8))"
      ]
     },
     "execution_count": 11,
     "metadata": {},
     "output_type": "execute_result"
    }
   ],
   "source": [
    "orders.shape, real.shape"
   ]
  },
  {
   "cell_type": "code",
   "execution_count": 15,
   "metadata": {},
   "outputs": [
    {
     "data": {
      "text/html": [
       "<div id=\"8ad9599d-6fdd-4ba5-8511-0275a678ad05\" style=\"height: 525px; width: 100%;\" class=\"plotly-graph-div\"></div><script type=\"text/javascript\">require([\"plotly\"], function(Plotly) { window.PLOTLYENV=window.PLOTLYENV || {};window.PLOTLYENV.BASE_URL=\"https://plot.ly\";Plotly.newPlot(\"8ad9599d-6fdd-4ba5-8511-0275a678ad05\", [{\"line\": {\"color\": \"rgb(205, 12, 24)\", \"width\": 4}, \"name\": \"Orders1\", \"x\": [\"\\u042f\\u043d\\u0432\\u0430\\u0440\\u044c 2019\", \"\\u0424\\u0435\\u0432\\u0440\\u0430\\u043b\\u044c 2019\", \"\\u041c\\u0430\\u0440\\u0442 2019\", \"\\u0410\\u043f\\u0440\\u0435\\u043b\\u044c 2019\", \"\\u041c\\u0430\\u0439 2019\"], \"y\": [0.0, 0.0, 6.0, 0.0, 0.0], \"type\": \"scatter\", \"uid\": \"c5f95e76-d612-4b00-9f29-4f67426abbee\"}], {\"title\": {\"text\": \"\\u0413\\u0440\\u0430\\u0444\\u0438\\u043a\"}, \"xaxis\": {\"title\": {\"text\": \"\\u041c\\u0435\\u0441\\u044f\\u0446\\u044b\"}}, \"yaxis\": {\"title\": {\"text\": \"\\u041a\\u043e\\u043b\\u0438\\u0447\\u0435\\u0441\\u0442\\u0432\\u043e\"}}}, {\"showLink\": false, \"linkText\": \"Export to plot.ly\", \"plotlyServerURL\": \"https://plot.ly\"})});</script><script type=\"text/javascript\">window.addEventListener(\"resize\", function(){window._Plotly.Plots.resize(document.getElementById(\"8ad9599d-6fdd-4ba5-8511-0275a678ad05\"));});</script>"
      ]
     },
     "metadata": {},
     "output_type": "execute_result"
    }
   ],
   "source": [
    "trace0 = go.Scatter(\n",
    "    x = months_ru,\n",
    "    y = orders.iloc[4, 3:],\n",
    "    name = 'Orders1',\n",
    "    line = dict(\n",
    "        color = ('rgb(205, 12, 24)'),\n",
    "        width = 4)\n",
    ")\n",
    "\n",
    "data = [trace0]\n",
    "layout = dict(\n",
    "    title = 'График',\n",
    "    xaxis = dict(title = 'Месяцы'),\n",
    "    yaxis = dict(title = 'Количество'),\n",
    ")\n",
    "\n",
    "fig = dict(data=data, layout=layout)\n",
    "iplot(fig, filename='styled-line')"
   ]
  },
  {
   "cell_type": "code",
   "execution_count": 54,
   "metadata": {},
   "outputs": [
    {
     "ename": "AttributeError",
     "evalue": "'list' object has no attribute 'sum'",
     "traceback": [
      "\u001b[1;31m---------------------------------------------------------------------------\u001b[0m",
      "\u001b[1;31mAttributeError\u001b[0m                            Traceback (most recent call last)",
      "\u001b[1;32m<ipython-input-54-e8bc7bb7f112>\u001b[0m in \u001b[0;36m<module>\u001b[1;34m()\u001b[0m\n\u001b[0;32m      4\u001b[0m \u001b[0mselect_data\u001b[0m\u001b[1;33m[\u001b[0m\u001b[1;34m'label'\u001b[0m\u001b[1;33m]\u001b[0m \u001b[1;33m=\u001b[0m \u001b[0mselect_data\u001b[0m\u001b[1;33m.\u001b[0m\u001b[0mapply\u001b[0m\u001b[1;33m(\u001b[0m\u001b[1;32mlambda\u001b[0m \u001b[0mx\u001b[0m\u001b[1;33m:\u001b[0m \u001b[1;34m\"{}, {}\"\u001b[0m\u001b[1;33m.\u001b[0m\u001b[0mformat\u001b[0m\u001b[1;33m(\u001b[0m\u001b[0mx\u001b[0m\u001b[1;33m[\u001b[0m\u001b[1;34m'nom'\u001b[0m\u001b[1;33m]\u001b[0m\u001b[1;33m,\u001b[0m \u001b[0mx\u001b[0m\u001b[1;33m[\u001b[0m\u001b[1;34m'art'\u001b[0m\u001b[1;33m]\u001b[0m\u001b[1;33m)\u001b[0m\u001b[1;33m,\u001b[0m \u001b[0maxis\u001b[0m\u001b[1;33m=\u001b[0m\u001b[1;36m1\u001b[0m\u001b[1;33m)\u001b[0m\u001b[1;33m\u001b[0m\u001b[0m\n\u001b[0;32m      5\u001b[0m \u001b[0mselect_data\u001b[0m\u001b[1;33m[\u001b[0m\u001b[1;34m'value'\u001b[0m\u001b[1;33m]\u001b[0m \u001b[1;33m=\u001b[0m \u001b[0mselect_data\u001b[0m\u001b[1;33m[\u001b[0m\u001b[1;34m'code'\u001b[0m\u001b[1;33m]\u001b[0m\u001b[1;33m\u001b[0m\u001b[0m\n\u001b[1;32m----> 6\u001b[1;33m \u001b[0mselect_data\u001b[0m\u001b[1;33m[\u001b[0m\u001b[1;33m[\u001b[0m\u001b[1;34m'label'\u001b[0m\u001b[1;33m,\u001b[0m \u001b[1;34m'value'\u001b[0m\u001b[1;33m]\u001b[0m\u001b[1;33m]\u001b[0m\u001b[1;33m.\u001b[0m\u001b[0mto_dict\u001b[0m\u001b[1;33m(\u001b[0m\u001b[1;34m'records'\u001b[0m\u001b[1;33m)\u001b[0m\u001b[1;33m.\u001b[0m\u001b[0msum\u001b[0m\u001b[1;33m(\u001b[0m\u001b[1;33m)\u001b[0m\u001b[1;33m\u001b[0m\u001b[0m\n\u001b[0m",
      "\u001b[1;31mAttributeError\u001b[0m: 'list' object has no attribute 'sum'"
     ],
     "output_type": "error"
    }
   ],
   "source": [
    "select_data = pd.concat([real[['nom', 'art', 'code']], orders[['nom', 'art', 'code']]])\n",
    "unique_codes = select_data['code'].unique()\n",
    "select_data = select_data[select_data['code'].isin(unique_codes)]\n",
    "select_data['label'] = select_data.apply(lambda x: \"{}, {}\".format(x['nom'], x['art']), axis=1)\n",
    "select_data['value'] = select_data['code']\n",
    "select_data[['label', 'value']].to_dict('records').sum()"
   ]
  },
  {
   "cell_type": "code",
   "execution_count": 52,
   "metadata": {},
   "outputs": [
    {
     "data": {
      "text/plain": [
       "(2, 8)"
      ]
     },
     "execution_count": 52,
     "metadata": {},
     "output_type": "execute_result"
    }
   ],
   "source": [
    "code = 'Ц1025719'\n",
    "pd.concat([real[real['code'].isin([code])], orders[orders['code'].isin([code])]]).shape"
   ]
  },
  {
   "cell_type": "code",
   "execution_count": 34,
   "metadata": {},
   "outputs": [
    {
     "ename": "IndexError",
     "evalue": "index 1 is out of bounds for axis 0 with size 1",
     "traceback": [
      "\u001b[1;31m---------------------------------------------------------------------------\u001b[0m",
      "\u001b[1;31mIndexError\u001b[0m                                Traceback (most recent call last)",
      "\u001b[1;32m<ipython-input-34-767e5b8ad5fe>\u001b[0m in \u001b[0;36m<module>\u001b[1;34m()\u001b[0m\n\u001b[0;32m      1\u001b[0m \u001b[0mreal_df\u001b[0m \u001b[1;33m=\u001b[0m \u001b[0mreal\u001b[0m\u001b[1;33m[\u001b[0m\u001b[0mreal\u001b[0m\u001b[1;33m[\u001b[0m\u001b[1;34m'code'\u001b[0m\u001b[1;33m]\u001b[0m\u001b[1;33m.\u001b[0m\u001b[0misin\u001b[0m\u001b[1;33m(\u001b[0m\u001b[1;33m[\u001b[0m\u001b[0mcode\u001b[0m\u001b[1;33m]\u001b[0m\u001b[1;33m)\u001b[0m\u001b[1;33m]\u001b[0m\u001b[1;33m\u001b[0m\u001b[0m\n\u001b[1;32m----> 2\u001b[1;33m \u001b[0mnomenclature\u001b[0m \u001b[1;33m=\u001b[0m \u001b[1;34m\"{}, {}\"\u001b[0m\u001b[1;33m.\u001b[0m\u001b[0mformat\u001b[0m\u001b[1;33m(\u001b[0m\u001b[0mreal_df\u001b[0m\u001b[1;33m[\u001b[0m\u001b[1;34m'nom'\u001b[0m\u001b[1;33m]\u001b[0m\u001b[1;33m.\u001b[0m\u001b[0mvalues\u001b[0m\u001b[1;33m[\u001b[0m\u001b[1;36m0\u001b[0m\u001b[1;33m]\u001b[0m\u001b[1;33m,\u001b[0m \u001b[0mreal_df\u001b[0m\u001b[1;33m[\u001b[0m\u001b[1;34m'art'\u001b[0m\u001b[1;33m]\u001b[0m\u001b[1;33m.\u001b[0m\u001b[0mvalues\u001b[0m\u001b[1;33m[\u001b[0m\u001b[1;36m1\u001b[0m\u001b[1;33m]\u001b[0m\u001b[1;33m)\u001b[0m\u001b[1;33m\u001b[0m\u001b[0m\n\u001b[0m\u001b[0;32m      3\u001b[0m \u001b[0mnomenclature\u001b[0m\u001b[1;33m\u001b[0m\u001b[0m\n",
      "\u001b[1;31mIndexError\u001b[0m: index 1 is out of bounds for axis 0 with size 1"
     ],
     "output_type": "error"
    }
   ],
   "source": [
    "real_df = real[real['code'].isin([code])]\n",
    "nomenclature = \"{}, {}\".format(real_df['nom'].values[0], real_df['art'].values[1])\n",
    "nomenclature"
   ]
  },
  {
   "cell_type": "code",
   "execution_count": 53,
   "metadata": {},
   "outputs": [],
   "source": [
    "trace = []\n",
    "\n",
    "real_df = real[real['code'].isin([code])]\n",
    "order_df = orders[orders['code'].isin([code])]\n",
    "nomenclature = \"{}, {}\".format(real_df['nom'].values[0], real_df['art'].values[0])\n",
    "\n",
    "local_trace = [\n",
    "    go.Scatter(\n",
    "        x=months_ru,\n",
    "        y=real_df.iloc[0, 3:],\n",
    "        name=\"{} (реализации)\".format(nomenclature),\n",
    "        mode='lines',\n",
    "        marker={'size': 8, \"opacity\": 0.6, \"line\": {\"width\": 0.5}}\n",
    "    ),\n",
    "    go.Scatter(\n",
    "        x=months_ru,\n",
    "        y=order_df.iloc[0, 3:],\n",
    "        name=\"{} (заказы)\".format(nomenclature),\n",
    "        mode='lines',\n",
    "        marker={'size': 8, \"opacity\": 0.6, \"line\": {\"width\": 0.5}}\n",
    "    )\n",
    "]\n",
    "\n",
    "trace += local_trace\n",
    "\n",
    "layout = dict(\n",
    "    title = 'График',\n",
    "    xaxis = dict(title = 'Месяцы'),\n",
    "    yaxis = dict(title = 'Количество'),\n",
    ")\n",
    "\n",
    "# fig = dict(data=trace, layout=layout)\n",
    "# iplot(fig, filename='styled-line')"
   ]
  },
  {
   "cell_type": "code",
   "execution_count": 51,
   "metadata": {},
   "outputs": [
    {
     "data": {
      "text/plain": [
       "(8120, 8)"
      ]
     },
     "execution_count": 51,
     "metadata": {},
     "output_type": "execute_result"
    }
   ],
   "source": [
    "real.sort_values(by=list(real.iloc[:, 3:].columns), ascending=False).shape"
   ]
  },
  {
   "cell_type": "code",
   "execution_count": null,
   "metadata": {},
   "outputs": [],
   "source": []
  }
 ],
 "metadata": {
  "kernelspec": {
   "display_name": "Python 3",
   "language": "python",
   "name": "python3"
  },
  "language_info": {
   "codemirror_mode": {
    "name": "ipython",
    "version": 3
   },
   "file_extension": ".py",
   "mimetype": "text/x-python",
   "name": "python",
   "nbconvert_exporter": "python",
   "pygments_lexer": "ipython3",
   "version": "3.7.0"
  }
 },
 "nbformat": 4,
 "nbformat_minor": 2
}
